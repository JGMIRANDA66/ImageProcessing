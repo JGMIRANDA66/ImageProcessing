{
 "cells": [
  {
   "cell_type": "code",
   "execution_count": 14,
   "metadata": {},
   "outputs": [],
   "source": [
    "from PIL import Image\n",
    "import os\n",
    "\n",
    "filelist=['images/girlface.bmp', 'images/houses.bmp','images/lena_color.bmp','images/Mercury.bmp','images/lena512.bmp','images/pens.bmp']\n",
    "\n",
    "for infile in filelist:\n",
    "    outfile = os.path.splitext(infile)[0]+\".jpg\"\n",
    "    if infile !=outfile:\n",
    "        try:\n",
    "            Image.open(infile).save(outfile)\n",
    "        except IOError:\n",
    "            print(\"Cannot convert\"),infile"
   ]
  }
 ],
 "metadata": {
  "kernelspec": {
   "display_name": "venv",
   "language": "python",
   "name": "python3"
  },
  "language_info": {
   "codemirror_mode": {
    "name": "ipython",
    "version": 3
   },
   "file_extension": ".py",
   "mimetype": "text/x-python",
   "name": "python",
   "nbconvert_exporter": "python",
   "pygments_lexer": "ipython3",
   "version": "3.8.10"
  },
  "orig_nbformat": 4,
  "vscode": {
   "interpreter": {
    "hash": "72ace4378f6a2d4a5ff5fde052fa0320664101007601f1cb36b42d32f21ddc44"
   }
  }
 },
 "nbformat": 4,
 "nbformat_minor": 2
}
